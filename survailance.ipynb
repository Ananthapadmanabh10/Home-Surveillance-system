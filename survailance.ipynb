{
 "cells": [
  {
   "cell_type": "code",
   "execution_count": 9,
   "metadata": {},
   "outputs": [],
   "source": [
    "import cv2\n",
    "import time\n",
    "import datetime\n",
    "import numpy as np\n",
    "\n"
   ]
  },
  {
   "cell_type": "code",
   "execution_count": 10,
   "metadata": {},
   "outputs": [],
   "source": [
    "face_cascade = cv2.CascadeClassifier(r\"haarcascade_frontalface_default.xml\")\n",
    "body_cascade = cv2.CascadeClassifier(r\"D:\\DL projects\\video survailances\\haarcascade_fullbody.xml\")"
   ]
  },
  {
   "cell_type": "code",
   "execution_count": 11,
   "metadata": {},
   "outputs": [],
   "source": [
    "def videocam():\n",
    "    cap = cv2.VideoCapture(0)\n",
    "    detection_stopped_time = None\n",
    "    timer_started = False\n",
    "    current_time=\"\"\n",
    "    SECONDS_TO_RECORD_AFTER_DETECTION = 5\n",
    "    frame_size = (int(cap.get(3)), int(cap.get(4)))\n",
    "    fourcc = cv2.VideoWriter_fourcc(*\"mp4v\")\n",
    "    detection = False\n",
    "    img_counter=1\n",
    "    while True:\n",
    "        suc, frame = cap.read()\n",
    "        frame=cv2.flip(frame,1)\n",
    "        gray = cv2.cvtColor(frame, cv2.COLOR_BGR2GRAY)\n",
    "        # new_image = cv2.convertScaleAbs(gray, alpha=1.3, beta=50)\n",
    "        # cv2.imshow('new',new_image)\n",
    "        faces = face_cascade.detectMultiScale(gray, 1.3, 5)\n",
    "        bodies = face_cascade.detectMultiScale(gray, 1.3, 5)\n",
    "        # print(\"length:\",len(faces)+len(bodies)) \n",
    "        if len(faces) + len(bodies) > 0:\n",
    "            # print(\"len detection\",detection)\n",
    "            if detection:\n",
    "                timer_started = False\n",
    "            else:\n",
    "                detection = True\n",
    "                current_time = datetime.datetime.now().strftime(\"%d-%m-%Y-%H-%M-%S\")\n",
    "                out = cv2.VideoWriter(f\"{current_time}.mp4\", fourcc, 20, frame_size)\n",
    "                print(\"Started Recording!\")\n",
    "        elif detection:\n",
    "            # print(\"elif detection\",detection)\n",
    "            if timer_started:\n",
    "                if time.time() - detection_stopped_time >= SECONDS_TO_RECORD_AFTER_DETECTION:\n",
    "                    detection = False\n",
    "                    timer_started = False\n",
    "                    out.release()\n",
    "                    print('Stop Recording!')\n",
    "            else:\n",
    "                timer_started = True\n",
    "                detection_stopped_time = time.time()\n",
    "        cv2.putText(frame, datetime.datetime.now().strftime(\"%d\\%m\\%Y \"),(450,425),cv2.FONT_HERSHEY_COMPLEX, 0.7, (0,0,255), 1,cv2.LINE_AA,False)\n",
    "        cv2.putText(frame, datetime.datetime.now().strftime(\"%I:%M:%S %p\"),(450,450),cv2.FONT_HERSHEY_COMPLEX, 0.7, (0,0,255), 1,cv2.LINE_AA,False)\n",
    "        i=1\n",
    "        for (x, y, width, height) in faces:\n",
    "            cv2.putText(frame, str(i),(x,y-5),cv2.FONT_HERSHEY_COMPLEX, 1, (0,0,255), 1,cv2.LINE_AA,False)\n",
    "            cv2.rectangle(frame, (x, y), (x + width, y + height), (255, 0, 0), 3)\n",
    "            i=int(i)+1        \n",
    "        if detection:\n",
    "            out.write(frame)\n",
    "         \n",
    "        cv2.imshow(\"image\",frame)\n",
    "        if cv2.waitKey(1) == ord('s'):\n",
    "            img_name=\"Screenshot{}.png\".format(img_counter)\n",
    "            img_counter=img_counter+1\n",
    "            cv2.imwrite(img_name,frame)  \n",
    "\n",
    "        elif cv2.waitKey(1) & 0xFF== ord('v'):\n",
    "            break \n",
    "\n",
    "    cap.release()\n",
    "    out.release()\n",
    "    cv2.destroyAllWindows()         \n",
    "    \n",
    "     \n",
    "    "
   ]
  },
  {
   "cell_type": "code",
   "execution_count": 12,
   "metadata": {},
   "outputs": [
    {
     "name": "stdout",
     "output_type": "stream",
     "text": [
      "Started Recording!\n"
     ]
    }
   ],
   "source": [
    "\n",
    "videocam()"
   ]
  }
 ],
 "metadata": {
  "kernelspec": {
   "display_name": "Python 3",
   "language": "python",
   "name": "python3"
  },
  "language_info": {
   "codemirror_mode": {
    "name": "ipython",
    "version": 3
   },
   "file_extension": ".py",
   "mimetype": "text/x-python",
   "name": "python",
   "nbconvert_exporter": "python",
   "pygments_lexer": "ipython3",
   "version": "3.11.1"
  },
  "orig_nbformat": 4
 },
 "nbformat": 4,
 "nbformat_minor": 2
}
